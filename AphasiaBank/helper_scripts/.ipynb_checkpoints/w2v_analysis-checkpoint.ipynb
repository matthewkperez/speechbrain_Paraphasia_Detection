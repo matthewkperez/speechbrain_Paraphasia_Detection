{
 "cells": [
  {
   "cell_type": "code",
   "execution_count": 5,
   "metadata": {},
   "outputs": [],
   "source": [
    "'''\n",
    "Analyze ground truth, predictions, and audio of a given E2E model\n",
    "\n",
    "Tunnel to remote server:\n",
    "1) on boba `jupyter notebook --no-browser --port=8080`\n",
    "2) on local `ssh -L 8080:localhost:8080 mkperez@boba.eecs.umich.edu`\n",
    "3) open up web browser on local and play\n",
    "'''\n",
    "\n",
    "from IPython.display import Audio\n",
    "import pandas as pd\n",
    "from tqdm import tqdm\n",
    "import seaborn as sns\n",
    "import matplotlib.pyplot as plt\n",
    "import librosa\n",
    "\n",
    "model_path = \"/z/mkperez/speechbrain/AphasiaBank/results/duc_process_ES/No-LM/wavlm-large/freeze-True\"\n",
    "test_data_path = \"/z/mkperez/speechbrain/AphasiaBank/data/Duc_process/test.csv\"\n",
    "data_df = pd.read_csv(test_data_path)\n",
    "wer_txt = f\"{model_path}/wer.txt\"\n",
    "cer_txt = f\"{model_path}/cer.txt\"\n",
    "utt2wav = {row['ID']:row['wav'] for i,row in data_df.iterrows()}\n",
    "\n",
    "with open(wer_txt, 'r') as r:\n",
    "    wer_lines = r.readlines()\n",
    "\n",
    "with open(cer_txt, 'r') as r:\n",
    "    cer_lines = r.readlines()\n",
    "    \n",
    "assert len(wer_lines) == len(cer_lines), f'{len(wer_lines)} != {len(cer_lines)}'"
   ]
  },
  {
   "cell_type": "code",
   "execution_count": 6,
   "metadata": {},
   "outputs": [
    {
     "name": "stderr",
     "output_type": "stream",
     "text": [
      "100%|█████████████████████████████████| 60056/60056 [00:00<00:00, 436838.17it/s]\n",
      "100%|█████████████████████████████████| 60056/60056 [00:00<00:00, 163026.96it/s]\n"
     ]
    },
    {
     "data": {
      "image/png": "[encoded data removed]",
      "text/plain": [
       "<Figure size 432x288 with 1 Axes>"
      ]
     },
     "metadata": {
      "needs_background": "light"
     },
     "output_type": "display_data"
    },
    {
     "data": {
      "image/png": "[encoded data removed]",
      "text/plain": [
       "<Figure size 432x288 with 1 Axes>"
      ]
     },
     "metadata": {
      "needs_background": "light"
     },
     "output_type": "display_data"
    }
   ],
   "source": [
    "def read_wer_txt(lines):\n",
    "    data = {}\n",
    "    stage = 0\n",
    "    for line in tqdm(lines):\n",
    "        line = line.strip()\n",
    "        if len(line.split()) == 14 and line.endswith(\"]\"):\n",
    "            # utt heading\n",
    "            utt_id = line.split()[0][:-1]\n",
    "            err = float(line.split()[2])\n",
    "            data[utt_id] = {'gt':[],'pred':[], 'err':err}\n",
    "            stage = 1\n",
    "        elif stage == 1:\n",
    "            data[utt_id]['gt'] = [t.strip() for t in line.split(\";\")]\n",
    "            stage = 2\n",
    "        elif stage == 2:\n",
    "            stage = 3\n",
    "            continue\n",
    "        elif stage == 3:\n",
    "            data[utt_id]['pred'] = [t.strip() for t in line.split(\";\")]\n",
    "            stage = 0\n",
    "    return data\n",
    "\n",
    "wer_data = read_wer_txt(wer_lines)\n",
    "cer_data = read_wer_txt(cer_lines)\n",
    "\n",
    "for data_dict, err_str in zip([cer_data,wer_data],['cer','wer']):\n",
    "    dflist=[]\n",
    "    for utt_id,data in data_dict.items():\n",
    "        df_loc=pd.DataFrame({\n",
    "            'num_words': [len(data['gt'])],\n",
    "            'err': [data['err']],\n",
    "        })\n",
    "        dflist.append(df_loc)\n",
    "    df = pd.concat(dflist)\n",
    "    # are errors more prevalent for shorter or longer utts?\n",
    "    # wer/cer breakdown by number of words\n",
    "    plt.clf()\n",
    "    ax = sns.barplot(data=df, x='num_words',y='err')\n",
    "    ax.set(title=f\"# words vs. {err_str}\", ylabel=err_str)\n",
    "    fig = ax.get_figure()\n",
    "    plt.show()\n",
    "\n"
   ]
  },
  {
   "cell_type": "code",
   "execution_count": 7,
   "metadata": {},
   "outputs": [
    {
     "name": "stdout",
     "output_type": "stream",
     "text": [
      "tap09a-336: cer:1100.0 | wer:500.0\n",
      "gt:['uh', '<eps>', '<eps>', '<eps>', '<eps>']\n",
      "pred:['tha', 'as', 'the', 'cinderella', 's']\n",
      "/z/mkperez/speechbrain/AphasiaBank/data/Duc_process/wavs/tap09a-336.wav\n",
      "\n",
      "\n"
     ]
    }
   ],
   "source": [
    "import IPython.display as ipd\n",
    "import numpy as np\n",
    "# sort by cer_err\n",
    "sorted_cer_data = sorted(cer_data.items(), key=lambda x:x[1]['err'], reverse=True)\n",
    "\n",
    "\n",
    "# keep utts with more than 3 words\n",
    "\n",
    "\n",
    "# print worse 10\n",
    "# for i in range(1):\n",
    "#     tup = sorted_cer_data[i]\n",
    "utt_id = \"tap09a-336\"\n",
    "# utt_id = tup[0]\n",
    "cer = cer_data[utt_id]['err']\n",
    "wer = wer_data[utt_id]['err']\n",
    "gt = wer_data[utt_id]['gt']\n",
    "pred = wer_data[utt_id]['pred']\n",
    "audio_path = utt2wav[utt_id]\n",
    "print(f\"{utt_id}: cer:{cer} | wer:{wer}\\ngt:{gt}\\npred:{pred}\")\n",
    "print(audio_path)\n",
    "ipd.Audio(filename=audio_path, rate=16000)\n",
    "fs=16000\n",
    "# ipd.Audio(np.sin(2*np.pi*440*np.arange(5 * fs)/fs), rate=fs)\n",
    "# y,sr = librosa.load(audio_path, sr=16000)\n",
    "# ipd.Audio(data=y, rate=sr)\n",
    "print(\"\\n\")\n"
   ]
  },
  {
   "cell_type": "code",
   "execution_count": null,
   "metadata": {},
   "outputs": [],
   "source": []
  }
 ],
 "metadata": {
  "kernelspec": {
   "display_name": "Python3 (py3.8)",
   "language": "python",
   "name": "py3.8"
  },
  "language_info": {
   "codemirror_mode": {
    "name": "ipython",
    "version": 3
   },
   "file_extension": ".py",
   "mimetype": "text/x-python",
   "name": "python",
   "nbconvert_exporter": "python",
   "pygments_lexer": "ipython3",
   "version": "3.8.0"
  }
 },
 "nbformat": 4,
 "nbformat_minor": 2
}
